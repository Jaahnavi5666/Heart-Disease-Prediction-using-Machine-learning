{
  "nbformat": 4,
  "nbformat_minor": 0,
  "metadata": {
    "colab": {
      "provenance": [],
      "mount_file_id": "1Q57yHtfwyfxVAoK2YBleJENceBlCwG1T",
      "authorship_tag": "ABX9TyMjd63/SLs2c1ql7YnrIy+Y",
      "include_colab_link": true
    },
    "kernelspec": {
      "name": "python3",
      "display_name": "Python 3"
    },
    "language_info": {
      "name": "python"
    }
  },
  "cells": [
    {
      "cell_type": "markdown",
      "metadata": {
        "id": "view-in-github",
        "colab_type": "text"
      },
      "source": [
        "<a href=\"https://colab.research.google.com/github/Jaahnavi5666/Heart-Disease-Prediction-using-Machine-learning/blob/main/Heart_Disease_prediction_using_Machine_Learning.ipynb\" target=\"_parent\"><img src=\"https://colab.research.google.com/assets/colab-badge.svg\" alt=\"Open In Colab\"/></a>"
      ]
    },
    {
      "cell_type": "markdown",
      "source": [
        "# Importing important Libraries"
      ],
      "metadata": {
        "id": "OzSO4J4O__Md"
      }
    },
    {
      "cell_type": "code",
      "source": [
        "import pandas as pd\n",
        "import numpy as np\n",
        "from sklearn.model_selection import train_test_split\n",
        "from sklearn.preprocessing import StandardScaler\n",
        "from sklearn.decomposition import PCA\n",
        "from sklearn.utils import resample\n",
        "from sklearn.pipeline import Pipeline\n",
        "from sklearn.linear_model import LogisticRegression\n",
        "from sklearn.svm import SVC\n",
        "from sklearn.tree import DecisionTreeClassifier\n",
        "from sklearn.neighbors import KNeighborsClassifier\n",
        "from sklearn.metrics import accuracy_score, classification_report\n",
        "import matplotlib.pyplot as plt\n",
        "\n"
      ],
      "metadata": {
        "id": "qxSTvmwAAFfm"
      },
      "execution_count": null,
      "outputs": []
    },
    {
      "cell_type": "markdown",
      "source": [
        "# Loading and exploring the given data set"
      ],
      "metadata": {
        "id": "D7rRN2mTBCns"
      }
    },
    {
      "cell_type": "code",
      "source": [
        "# Load the dataset\n",
        "data = pd.read_csv('/content/drive/MyDrive/Asgn1_20EE10033/framingham.csv')  # Replace with your dataset filename\n",
        "data = data.dropna();\n",
        "# Explore the data\n",
        "print(data.head())  # Display the first few rows of the dataset\n",
        "print(data.info())  # Get information about the dataset\n",
        "print(data.describe())  # Summary statistics\n"
      ],
      "metadata": {
        "colab": {
          "base_uri": "https://localhost:8080/"
        },
        "id": "oUjSrzo-AIDf",
        "outputId": "cff6c14e-a03c-4ed5-bf72-07c6323644ee"
      },
      "execution_count": null,
      "outputs": [
        {
          "output_type": "stream",
          "name": "stdout",
          "text": [
            "   male  age  education  currentSmoker  cigsPerDay  BPMeds  prevalentStroke  \\\n",
            "0     1   39        4.0              0         0.0     0.0                0   \n",
            "1     0   46        2.0              0         0.0     0.0                0   \n",
            "2     1   48        1.0              1        20.0     0.0                0   \n",
            "3     0   61        3.0              1        30.0     0.0                0   \n",
            "4     0   46        3.0              1        23.0     0.0                0   \n",
            "\n",
            "   prevalentHyp  diabetes  totChol  sysBP  diaBP    BMI  heartRate  glucose  \\\n",
            "0             0         0    195.0  106.0   70.0  26.97       80.0     77.0   \n",
            "1             0         0    250.0  121.0   81.0  28.73       95.0     76.0   \n",
            "2             0         0    245.0  127.5   80.0  25.34       75.0     70.0   \n",
            "3             1         0    225.0  150.0   95.0  28.58       65.0    103.0   \n",
            "4             0         0    285.0  130.0   84.0  23.10       85.0     85.0   \n",
            "\n",
            "   TenYearCHD  \n",
            "0           0  \n",
            "1           0  \n",
            "2           0  \n",
            "3           1  \n",
            "4           0  \n",
            "<class 'pandas.core.frame.DataFrame'>\n",
            "Int64Index: 3658 entries, 0 to 4239\n",
            "Data columns (total 16 columns):\n",
            " #   Column           Non-Null Count  Dtype  \n",
            "---  ------           --------------  -----  \n",
            " 0   male             3658 non-null   int64  \n",
            " 1   age              3658 non-null   int64  \n",
            " 2   education        3658 non-null   float64\n",
            " 3   currentSmoker    3658 non-null   int64  \n",
            " 4   cigsPerDay       3658 non-null   float64\n",
            " 5   BPMeds           3658 non-null   float64\n",
            " 6   prevalentStroke  3658 non-null   int64  \n",
            " 7   prevalentHyp     3658 non-null   int64  \n",
            " 8   diabetes         3658 non-null   int64  \n",
            " 9   totChol          3658 non-null   float64\n",
            " 10  sysBP            3658 non-null   float64\n",
            " 11  diaBP            3658 non-null   float64\n",
            " 12  BMI              3658 non-null   float64\n",
            " 13  heartRate        3658 non-null   float64\n",
            " 14  glucose          3658 non-null   float64\n",
            " 15  TenYearCHD       3658 non-null   int64  \n",
            "dtypes: float64(9), int64(7)\n",
            "memory usage: 485.8 KB\n",
            "None\n",
            "              male          age    education  currentSmoker   cigsPerDay  \\\n",
            "count  3658.000000  3658.000000  3658.000000    3658.000000  3658.000000   \n",
            "mean      0.443685    49.551941     1.980317       0.489065     9.025424   \n",
            "std       0.496886     8.562029     1.022656       0.499949    11.921590   \n",
            "min       0.000000    32.000000     1.000000       0.000000     0.000000   \n",
            "25%       0.000000    42.000000     1.000000       0.000000     0.000000   \n",
            "50%       0.000000    49.000000     2.000000       0.000000     0.000000   \n",
            "75%       1.000000    56.000000     3.000000       1.000000    20.000000   \n",
            "max       1.000000    70.000000     4.000000       1.000000    70.000000   \n",
            "\n",
            "            BPMeds  prevalentStroke  prevalentHyp     diabetes      totChol  \\\n",
            "count  3658.000000      3658.000000   3658.000000  3658.000000  3658.000000   \n",
            "mean      0.030344         0.005741      0.311646     0.027064   236.847731   \n",
            "std       0.171557         0.075561      0.463229     0.162292    44.097681   \n",
            "min       0.000000         0.000000      0.000000     0.000000   113.000000   \n",
            "25%       0.000000         0.000000      0.000000     0.000000   206.000000   \n",
            "50%       0.000000         0.000000      0.000000     0.000000   234.000000   \n",
            "75%       0.000000         0.000000      1.000000     0.000000   263.000000   \n",
            "max       1.000000         1.000000      1.000000     1.000000   600.000000   \n",
            "\n",
            "             sysBP        diaBP          BMI    heartRate      glucose  \\\n",
            "count  3658.000000  3658.000000  3658.000000  3658.000000  3658.000000   \n",
            "mean    132.370558    82.917031    25.782802    75.730727    81.852925   \n",
            "std      22.086866    11.974258     4.065601    11.981525    23.904164   \n",
            "min      83.500000    48.000000    15.540000    44.000000    40.000000   \n",
            "25%     117.000000    75.000000    23.080000    68.000000    71.000000   \n",
            "50%     128.000000    82.000000    25.380000    75.000000    78.000000   \n",
            "75%     143.875000    90.000000    28.037500    82.000000    87.000000   \n",
            "max     295.000000   142.500000    56.800000   143.000000   394.000000   \n",
            "\n",
            "        TenYearCHD  \n",
            "count  3658.000000  \n",
            "mean      0.152269  \n",
            "std       0.359331  \n",
            "min       0.000000  \n",
            "25%       0.000000  \n",
            "50%       0.000000  \n",
            "75%       0.000000  \n",
            "max       1.000000  \n"
          ]
        }
      ]
    },
    {
      "cell_type": "markdown",
      "source": [
        "# Feature selection and scaling using PCA"
      ],
      "metadata": {
        "id": "c5Gz_2J5Bla8"
      }
    },
    {
      "cell_type": "code",
      "source": [
        "# Step 2: Normalize the original data\n",
        "scaler = StandardScaler()\n",
        "X = data.drop('TenYearCHD', axis = 1);\n",
        "y = data['TenYearCHD'];\n",
        "X_normalized = scaler.fit_transform(X)  # X is your original dataset\n",
        "\n",
        "# Step 3: Calculate the covariance matrix\n",
        "cov_matrix = np.cov(X_normalized, rowvar=False)\n",
        "\n",
        "# Step 4: Calculate Eigenvalues and Eigenvectors\n",
        "eigenvalues, eigenvectors = np.linalg.eig(cov_matrix)\n",
        "# Sort eigenvalues in descending order\n",
        "sorted_eigenvalues = np.sort(eigenvalues)[::-1]\n",
        "# Calculate explained variance\n",
        "explained_variance = sorted_eigenvalues / np.sum(sorted_eigenvalues)\n",
        "# Calculate cumulative explained variance\n",
        "cumulative_variance = np.cumsum(explained_variance)\n",
        "# Set a threshold for the desired explained variance (e.g., 95%)\n",
        "threshold = 0.95\n",
        "# Find the smallest k such that cumulative explained variance exceeds the threshold\n",
        "k = np.argmax(cumulative_variance >= threshold) + 1\n",
        "print(f'Number of Principal Components (k) to Retain: {k}')\n"
      ],
      "metadata": {
        "colab": {
          "base_uri": "https://localhost:8080/"
        },
        "id": "xn4jRHz1BKgq",
        "outputId": "1e9dd8f4-46cb-44af-c6ee-76202072a02d"
      },
      "execution_count": null,
      "outputs": [
        {
          "output_type": "stream",
          "name": "stdout",
          "text": [
            "Number of Principal Components (k) to Retain: 13\n"
          ]
        }
      ]
    },
    {
      "cell_type": "code",
      "source": [
        "# Step 5: Calculate Principal Components\n",
        "k = 13  # Number of principal components to retain\n",
        "top_k_eigenvectors = eigenvectors[:, :k]\n",
        "\n",
        "# Step 6: Plot explained variance\n",
        "explained_variance = eigenvalues / np.sum(eigenvalues)\n",
        "plt.plot(np.arange(1, len(explained_variance) + 1), np.cumsum(explained_variance))\n",
        "plt.xlabel('Number of Principal Components')\n",
        "plt.ylabel('Cumulative Explained Variance')\n",
        "plt.title('Explained Variance vs. Number of Principal Components')\n",
        "plt.grid(True)\n",
        "plt.show()"
      ],
      "metadata": {
        "colab": {
          "base_uri": "https://localhost:8080/",
          "height": 472
        },
        "id": "8ts9ekxENzHM",
        "outputId": "66f5f4a5-970b-4a2e-f485-7f6b02489534"
      },
      "execution_count": null,
      "outputs": [
        {
          "output_type": "display_data",
          "data": {
            "text/plain": [
              "<Figure size 640x480 with 1 Axes>"
            ],
            "image/png": "[encoded data removed]"
          },
          "metadata": {}
        }
      ]
    },
    {
      "cell_type": "code",
      "source": [
        "alt_data = data.drop('TenYearCHD',axis = 1)\n",
        "# Perform PCA for feature selection and scaling\n",
        "pca = PCA(n_components=13)  # You can adjust the number of components\n",
        "X_pca = pca.fit_transform(X)\n",
        "\n",
        "# Standardize the features\n",
        "scaler = StandardScaler()\n",
        "X_scaled = scaler.fit_transform(X_pca)"
      ],
      "metadata": {
        "id": "UVZ7RHmTe3GK"
      },
      "execution_count": null,
      "outputs": []
    },
    {
      "cell_type": "markdown",
      "source": [
        "# Test-Train Split"
      ],
      "metadata": {
        "id": "AMP_v3nwgPY3"
      }
    },
    {
      "cell_type": "code",
      "source": [
        "test_size = 0.3\n",
        "random_state = 42\n",
        "\n",
        "# Perform the train-test split\n",
        "X_train, X_test, y_train, y_test = train_test_split(X_scaled, y, test_size=test_size, random_state=random_state)"
      ],
      "metadata": {
        "id": "4QqAUYUngE7o"
      },
      "execution_count": null,
      "outputs": []
    },
    {
      "cell_type": "markdown",
      "source": [
        "# Resample"
      ],
      "metadata": {
        "id": "stNJ8DT4ipO6"
      }
    },
    {
      "cell_type": "code",
      "source": [
        "# check the balance of classes\n",
        "# Assuming you have a binary classification problem with 'y' as your target variable\n",
        "class_distribution = y.value_counts()\n",
        "print(class_distribution)\n",
        "# Visualize class distribution\n",
        "plt.bar(class_distribution.index, class_distribution.values)\n",
        "plt.xlabel('Class')\n",
        "plt.ylabel('Count')\n",
        "plt.title('Class Distribution')\n",
        "plt.show()\n"
      ],
      "metadata": {
        "colab": {
          "base_uri": "https://localhost:8080/",
          "height": 524
        },
        "id": "NrHf6jRAhSV9",
        "outputId": "72020fc1-4264-4535-e4da-5dde86a55570"
      },
      "execution_count": null,
      "outputs": [
        {
          "output_type": "stream",
          "name": "stdout",
          "text": [
            "0    3101\n",
            "1     557\n",
            "Name: TenYearCHD, dtype: int64\n"
          ]
        },
        {
          "output_type": "display_data",
          "data": {
            "text/plain": [
              "<Figure size 640x480 with 1 Axes>"
            ],
            "image/png": "[encoded data removed]"
          },
          "metadata": {}
        }
      ]
    },
    {
      "cell_type": "code",
      "source": [
        "from imblearn.over_sampling import SMOTE\n",
        "smote = SMOTE(random_state=42)\n",
        "# Fit and apply SMOTE to your training data\n",
        "X_train_resampled, y_train_resampled = smote.fit_resample(X_train, y_train)\n",
        "\n",
        "# Check the class distribution after SMOTE\n",
        "class_distribution_resampled = y_train_resampled.value_counts()\n",
        "print(class_distribution_resampled)"
      ],
      "metadata": {
        "colab": {
          "base_uri": "https://localhost:8080/"
        },
        "id": "bOWzcnR8i6AW",
        "outputId": "64f76f45-4221-43ea-cdce-bc76712d0d07"
      },
      "execution_count": null,
      "outputs": [
        {
          "output_type": "stream",
          "name": "stdout",
          "text": [
            "0    2179\n",
            "1    2179\n",
            "Name: TenYearCHD, dtype: int64\n"
          ]
        }
      ]
    },
    {
      "cell_type": "markdown",
      "source": [
        "# Model Pipelines"
      ],
      "metadata": {
        "id": "f_Zr8vWPp_W2"
      }
    },
    {
      "cell_type": "markdown",
      "source": [],
      "metadata": {
        "id": "AV9zRaPEoVIE"
      }
    },
    {
      "cell_type": "code",
      "source": [
        "# Create pipelines for different models\n",
        "lr_pipeline = Pipeline([\n",
        "    ('classifier', LogisticRegression())\n",
        "])\n",
        "\n",
        "svm_pipeline = Pipeline([\n",
        "    ('classifier', SVC())\n",
        "])\n",
        "\n",
        "dt_pipeline = Pipeline([\n",
        "    ('classifier', DecisionTreeClassifier())\n",
        "])\n",
        "\n",
        "knn_pipeline = Pipeline([\n",
        "    ('classifier', KNeighborsClassifier())\n",
        "])\n"
      ],
      "metadata": {
        "id": "6127nJhDoIKq"
      },
      "execution_count": null,
      "outputs": []
    },
    {
      "cell_type": "markdown",
      "source": [
        "# Modelling and Evaluation"
      ],
      "metadata": {
        "id": "XiWsfI9SqRub"
      }
    },
    {
      "cell_type": "code",
      "source": [
        "# Train and evaluate Logistic Regression\n",
        "lr_pipeline.fit(X_train_resampled, y_train_resampled)\n",
        "lr_predictions = lr_pipeline.predict(X_test)\n",
        "lr_accuracy = accuracy_score(y_test, lr_predictions)\n",
        "print(\"Logistic Regression Accuracy:\", lr_accuracy)\n",
        "print(classification_report(y_test, lr_predictions))"
      ],
      "metadata": {
        "colab": {
          "base_uri": "https://localhost:8080/"
        },
        "id": "QOieYnmcqeuG",
        "outputId": "d14a1376-1b28-4fb0-fefb-f4ae17cfd8fc"
      },
      "execution_count": null,
      "outputs": [
        {
          "output_type": "stream",
          "name": "stdout",
          "text": [
            "Logistic Regression Accuracy: 0.6830601092896175\n",
            "              precision    recall  f1-score   support\n",
            "\n",
            "           0       0.92      0.68      0.78       922\n",
            "           1       0.29      0.68      0.41       176\n",
            "\n",
            "    accuracy                           0.68      1098\n",
            "   macro avg       0.60      0.68      0.59      1098\n",
            "weighted avg       0.82      0.68      0.72      1098\n",
            "\n"
          ]
        }
      ]
    },
    {
      "cell_type": "code",
      "source": [
        "# Train and evaluate Support Vector Machine\n",
        "svm_pipeline.fit(X_train_resampled, y_train_resampled)\n",
        "svm_predictions = svm_pipeline.predict(X_test)\n",
        "svm_accuracy = accuracy_score(y_test, svm_predictions)\n",
        "print(\"Logistic Regression Accuracy:\", svm_accuracy)\n",
        "print(classification_report(y_test, svm_predictions))\n"
      ],
      "metadata": {
        "colab": {
          "base_uri": "https://localhost:8080/"
        },
        "id": "gqrCQm-bqOES",
        "outputId": "3ee188a4-661f-4114-dc07-cbe2525217e6"
      },
      "execution_count": null,
      "outputs": [
        {
          "output_type": "stream",
          "name": "stdout",
          "text": [
            "Logistic Regression Accuracy: 0.7222222222222222\n",
            "              precision    recall  f1-score   support\n",
            "\n",
            "           0       0.88      0.78      0.83       922\n",
            "           1       0.27      0.42      0.33       176\n",
            "\n",
            "    accuracy                           0.72      1098\n",
            "   macro avg       0.57      0.60      0.58      1098\n",
            "weighted avg       0.78      0.72      0.75      1098\n",
            "\n"
          ]
        }
      ]
    },
    {
      "cell_type": "code",
      "source": [
        "# Train and evaluate Decision Tree Classifier\n",
        "dt_pipeline.fit(X_train_resampled, y_train_resampled)\n",
        "dt_predictions = dt_pipeline.predict(X_test)\n",
        "dt_accuracy = accuracy_score(y_test, dt_predictions)\n",
        "print(\"Logistic Regression Accuracy:\", dt_accuracy)\n",
        "print(classification_report(y_test, dt_predictions))"
      ],
      "metadata": {
        "colab": {
          "base_uri": "https://localhost:8080/"
        },
        "id": "wariNeT9rI1H",
        "outputId": "fb7996f3-133d-41c5-9ff1-e5832f31e947"
      },
      "execution_count": null,
      "outputs": [
        {
          "output_type": "stream",
          "name": "stdout",
          "text": [
            "Logistic Regression Accuracy: 0.6985428051001822\n",
            "              precision    recall  f1-score   support\n",
            "\n",
            "           0       0.87      0.76      0.81       922\n",
            "           1       0.23      0.39      0.29       176\n",
            "\n",
            "    accuracy                           0.70      1098\n",
            "   macro avg       0.55      0.57      0.55      1098\n",
            "weighted avg       0.76      0.70      0.73      1098\n",
            "\n"
          ]
        }
      ]
    },
    {
      "cell_type": "code",
      "source": [
        "# Train and evaluate K near neighbour Classifier\n",
        "knn_pipeline.fit(X_train_resampled, y_train_resampled)\n",
        "knn_predictions = knn_pipeline.predict(X_test)\n",
        "knn_accuracy = accuracy_score(y_test, knn_predictions)\n",
        "print(\"Logistic Regression Accuracy:\", knn_accuracy)\n",
        "print(classification_report(y_test, knn_predictions))"
      ],
      "metadata": {
        "colab": {
          "base_uri": "https://localhost:8080/"
        },
        "id": "OqtjU1KkrUI4",
        "outputId": "4ab22677-70c5-4848-919e-7c1c8bb3d7b7"
      },
      "execution_count": null,
      "outputs": [
        {
          "output_type": "stream",
          "name": "stdout",
          "text": [
            "Logistic Regression Accuracy: 0.6621129326047359\n",
            "              precision    recall  f1-score   support\n",
            "\n",
            "           0       0.89      0.69      0.77       922\n",
            "           1       0.25      0.53      0.34       176\n",
            "\n",
            "    accuracy                           0.66      1098\n",
            "   macro avg       0.57      0.61      0.55      1098\n",
            "weighted avg       0.78      0.66      0.70      1098\n",
            "\n"
          ]
        }
      ]
    },
    {
      "cell_type": "code",
      "source": [],
      "metadata": {
        "id": "0wvdOobVrisk"
      },
      "execution_count": null,
      "outputs": []
    }
  ]
}